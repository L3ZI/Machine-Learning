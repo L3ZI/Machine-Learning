{
  "nbformat": 4,
  "nbformat_minor": 0,
  "metadata": {
    "colab": {
      "provenance": []
    },
    "kernelspec": {
      "name": "python3",
      "display_name": "Python 3"
    },
    "language_info": {
      "name": "python"
    },
    "accelerator": "GPU",
    "gpuClass": "standard"
  },
  "cells": [
    {
      "cell_type": "code",
      "execution_count": 1,
      "metadata": {
        "colab": {
          "base_uri": "https://localhost:8080/"
        },
        "id": "-u8R-2PX_U-R",
        "outputId": "04a5e0f1-2c09-4d35-e493-59fb31142142"
      },
      "outputs": [
        {
          "output_type": "stream",
          "name": "stdout",
          "text": [
            "Downloading data from https://storage.googleapis.com/tensorflow/tf-keras-datasets/mnist.npz\n",
            "11493376/11490434 [==============================] - 0s 0us/step\n",
            "11501568/11490434 [==============================] - 0s 0us/step\n",
            "(60000, 28, 28)\n",
            "(60000,)\n",
            "Model: \"sequential\"\n",
            "_________________________________________________________________\n",
            " Layer (type)                Output Shape              Param #   \n",
            "=================================================================\n",
            " dense (Dense)               (None, 512)               401920    \n",
            "                                                                 \n",
            " dense_1 (Dense)             (None, 256)               131328    \n",
            "                                                                 \n",
            " dense_2 (Dense)             (None, 10)                2570      \n",
            "                                                                 \n",
            "=================================================================\n",
            "Total params: 535,818\n",
            "Trainable params: 535,818\n",
            "Non-trainable params: 0\n",
            "_________________________________________________________________\n",
            "None\n",
            "Epoch 1/5\n",
            "1875/1875 - 7s - loss: 0.1852 - accuracy: 0.9427 - 7s/epoch - 4ms/step\n",
            "Epoch 2/5\n",
            "1875/1875 - 3s - loss: 0.0803 - accuracy: 0.9752 - 3s/epoch - 2ms/step\n",
            "Epoch 3/5\n",
            "1875/1875 - 3s - loss: 0.0554 - accuracy: 0.9826 - 3s/epoch - 2ms/step\n",
            "Epoch 4/5\n",
            "1875/1875 - 3s - loss: 0.0410 - accuracy: 0.9868 - 3s/epoch - 2ms/step\n",
            "Epoch 5/5\n",
            "1875/1875 - 3s - loss: 0.0326 - accuracy: 0.9898 - 3s/epoch - 2ms/step\n",
            "313/313 - 1s - loss: 0.0824 - accuracy: 0.9789 - 689ms/epoch - 2ms/step\n"
          ]
        },
        {
          "output_type": "execute_result",
          "data": {
            "text/plain": [
              "[0.08241045475006104, 0.9789000153541565]"
            ]
          },
          "metadata": {},
          "execution_count": 1
        }
      ],
      "source": [
        "from tensorflow import keras\n",
        "from tensorflow.keras import layers\n",
        "from tensorflow.keras.datasets import mnist\n",
        "\n",
        "(x_train, y_train),(x_test, y_test) = mnist.load_data()\n",
        "\n",
        "print(x_train.shape)\n",
        "print(y_train.shape)\n",
        "\n",
        "x_train = x_train.reshape(-1, 28 * 28).astype(\"float32\") /255.0\n",
        "x_test = x_test.reshape(-1, 28 * 28).astype(\"float32\") /255.0\n",
        "\n",
        "#define model as a function\n",
        "def createModel():\n",
        "  model = keras.Sequential()\n",
        "  model.add(keras.Input(shape=28*28))\n",
        "  model.add(layers.Dense(512, activation='relu'))\n",
        "  model.add(layers.Dense(256, activation='relu'))\n",
        "  model.add(layers.Dense(10))\n",
        "  return model\n",
        "\n",
        "myModel = createModel() #initialize model to a variable\n",
        "\n",
        "print(myModel.summary()) #printing summary of the model\n",
        "\n",
        "#compiling model\n",
        "myModel.compile(\n",
        "    loss = keras.losses.SparseCategoricalCrossentropy(from_logits=True),\n",
        "    optimizer = keras.optimizers.Adam(learning_rate=0.001),\n",
        "    metrics = [\"accuracy\"]\n",
        "    )\n",
        "\n",
        "#training model\n",
        "myModel.fit (x_train, y_train, batch_size=32, epochs = 5, verbose = 2)\n",
        "myModel.evaluate(x_test, y_test, batch_size=32, verbose=2)"
      ]
    }
  ]
}